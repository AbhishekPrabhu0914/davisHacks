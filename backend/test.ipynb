{
 "cells": [
  {
   "cell_type": "code",
   "execution_count": 13,
   "id": "1b302836",
   "metadata": {},
   "outputs": [
    {
     "name": "stdout",
     "output_type": "stream",
     "text": [
      "Contents of 'kaggleData/dataset1':\n",
      "- .DS_Store\n",
      "- test\n",
      "- train\n",
      "- validation\n"
     ]
    }
   ],
   "source": [
    "import os\n",
    "\n",
    "face_data_dir = 'kaggleData/dataset1'\n",
    "\n",
    "if os.path.exists(face_data_dir):\n",
    "    print(f\"Contents of '{face_data_dir}':\")\n",
    "    for item in os.listdir(face_data_dir):\n",
    "        item_path = os.path.join(face_data_dir, item)\n",
    "        print(f\"- {item}\")\n",
    "else:\n",
    "    print(f\"Error: Directory '{face_data_dir}' not found.\")"
   ]
  },
  {
   "cell_type": "code",
   "execution_count": 14,
   "id": "0f3e6328",
   "metadata": {},
   "outputs": [
    {
     "name": "stdout",
     "output_type": "stream",
     "text": [
      "Contents of 'kaggleData/dataset2':\n",
      "- .DS_Store\n",
      "- test\n",
      "- train\n",
      "- validation\n"
     ]
    }
   ],
   "source": [
    "import os\n",
    "\n",
    "face_data_dir = 'kaggleData/dataset2'\n",
    "\n",
    "if os.path.exists(face_data_dir):\n",
    "    print(f\"Contents of '{face_data_dir}':\")\n",
    "    for item in os.listdir(face_data_dir):\n",
    "        item_path = os.path.join(face_data_dir, item)\n",
    "        print(f\"- {item}\")\n",
    "else:\n",
    "    print(f\"Error: Directory '{face_data_dir}' not found.\")"
   ]
  },
  {
   "cell_type": "code",
   "execution_count": null,
   "id": "6f5a07d5",
   "metadata": {},
   "outputs": [
    {
     "name": "stdout",
     "output_type": "stream",
     "text": [
      "Sampling of 'train' complete. Sampled data saved to: kaggleData/dataset1/sampled_train\n",
      "Sampling of 'test' complete. Sampled data saved to: kaggleData/dataset1/sampled_test\n",
      "Sampling of 'validation' complete. Sampled data saved to: kaggleData/dataset1/sampled_val\n",
      "Sampling process completed for train, test, and validation (if present).\n"
     ]
    }
   ],
   "source": [
    "import os\n",
    "import random\n",
    "import shutil\n",
    "\n",
    "main_dataset_dir = 'kaggleData'\n",
    "dataset_name = 'dataset1'\n",
    "dataset1_path = os.path.join(main_dataset_dir, dataset_name)\n",
    "\n",
    "data_dirs = {'train': 'sampled_train',\n",
    "             'test': 'sampled_test',\n",
    "             'validation': 'sampled_val'}  \n",
    "\n",
    "sampling_ratio = 0.6  # Keep 60% of the original data\n",
    "\n",
    "for original_subdir, sampled_subdir_name in data_dirs.items():\n",
    "    original_dir = os.path.join(dataset1_path, original_subdir)\n",
    "    sampled_dir = os.path.join(dataset1_path, sampled_subdir_name)\n",
    "    os.makedirs(sampled_dir, exist_ok=True)\n",
    "\n",
    "    if os.path.exists(original_dir) and os.path.isdir(original_dir):\n",
    "        for class_name in os.listdir(original_dir):\n",
    "            original_class_dir = os.path.join(original_dir, class_name)\n",
    "            sampled_class_dir = os.path.join(sampled_dir, class_name)\n",
    "            os.makedirs(sampled_class_dir, exist_ok=True)\n",
    "\n",
    "            if os.path.isdir(original_class_dir):\n",
    "                image_files = [f for f in os.listdir(original_class_dir) if f.endswith(('.jpg', '.jpeg', '.png'))]\n",
    "                num_to_sample = int(len(image_files) * sampling_ratio)\n",
    "                sampled_files = random.sample(image_files, num_to_sample)\n",
    "\n",
    "                for file_name in sampled_files:\n",
    "                    original_path = os.path.join(original_class_dir, file_name)\n",
    "                    sampled_path = os.path.join(sampled_class_dir, file_name)\n",
    "                    shutil.copy2(original_path, sampled_path)  # Copy with metadata\n",
    "        print(f\"Sampling of '{original_subdir}' complete. Sampled data saved to: {sampled_dir}\")\n",
    "    else:\n",
    "        print(f\"Warning: Directory '{original_dir}' not found.\")\n",
    "\n",
    "print(\"Sampling process completed for train, test, and validation (if present).\")"
   ]
  },
  {
   "cell_type": "code",
   "execution_count": null,
   "id": "95f4196f",
   "metadata": {},
   "outputs": [
    {
     "name": "stdout",
     "output_type": "stream",
     "text": [
      "Found 29809 files belonging to 2 classes.\n",
      "Found 8389 files belonging to 2 classes.\n",
      "Found 3859 files belonging to 3 classes.\n",
      "Class names: ['fake', 'real']\n",
      "Number of classes: 2 \n",
      "\n",
      "Starting training of the tweaked model from scratch...\n",
      "Epoch 1/30\n",
      "932/932 [==============================] - 198s 212ms/step - loss: 0.6005 - accuracy: 0.7177 - val_loss: 0.5067 - val_accuracy: 0.7585\n",
      "Epoch 2/30\n",
      "932/932 [==============================] - 240s 258ms/step - loss: 0.2869 - accuracy: 0.8771 - val_loss: 0.6148 - val_accuracy: 0.7685\n",
      "Epoch 3/30\n",
      "932/932 [==============================] - 237s 254ms/step - loss: 0.1963 - accuracy: 0.9219 - val_loss: 0.3318 - val_accuracy: 0.8529\n",
      "Epoch 4/30\n",
      "932/932 [==============================] - 240s 258ms/step - loss: 0.1556 - accuracy: 0.9377 - val_loss: 0.2242 - val_accuracy: 0.9038\n",
      "Epoch 5/30\n",
      "932/932 [==============================] - 229s 245ms/step - loss: 0.1382 - accuracy: 0.9436 - val_loss: 0.4375 - val_accuracy: 0.8547\n",
      "Epoch 6/30\n",
      "932/932 [==============================] - 228s 245ms/step - loss: 0.1299 - accuracy: 0.9473 - val_loss: 0.2349 - val_accuracy: 0.8943\n",
      "Epoch 7/30\n",
      "932/932 [==============================] - 233s 250ms/step - loss: 0.1115 - accuracy: 0.9552 - val_loss: 0.3903 - val_accuracy: 0.8585\n",
      "Epoch 8/30\n",
      "932/932 [==============================] - 226s 242ms/step - loss: 0.1070 - accuracy: 0.9582 - val_loss: 0.1967 - val_accuracy: 0.9201\n",
      "Epoch 9/30\n",
      "932/932 [==============================] - 216s 232ms/step - loss: 0.0881 - accuracy: 0.9632 - val_loss: 0.2601 - val_accuracy: 0.9143\n",
      "Epoch 10/30\n",
      "932/932 [==============================] - 217s 232ms/step - loss: 0.0873 - accuracy: 0.9640 - val_loss: 0.2158 - val_accuracy: 0.9107\n",
      "Epoch 11/30\n",
      "124/932 [==>...........................] - ETA: 2:58 - loss: 0.0781 - accuracy: 0.9677"
     ]
    },
    {
     "ename": "KeyboardInterrupt",
     "evalue": "",
     "output_type": "error",
     "traceback": [
      "\u001b[0;31m---------------------------------------------------------------------------\u001b[0m",
      "\u001b[0;31mKeyboardInterrupt\u001b[0m                         Traceback (most recent call last)",
      "Cell \u001b[0;32mIn[33], line 88\u001b[0m\n\u001b[1;32m     86\u001b[0m \u001b[38;5;66;03m# --- Train the Model ---\u001b[39;00m\n\u001b[1;32m     87\u001b[0m \u001b[38;5;28mprint\u001b[39m(\u001b[38;5;124m\"\u001b[39m\u001b[38;5;124mStarting training of the tweaked model from scratch...\u001b[39m\u001b[38;5;124m\"\u001b[39m)\n\u001b[0;32m---> 88\u001b[0m history \u001b[38;5;241m=\u001b[39m \u001b[43mmodel\u001b[49m\u001b[38;5;241;43m.\u001b[39;49m\u001b[43mfit\u001b[49m\u001b[43m(\u001b[49m\n\u001b[1;32m     89\u001b[0m \u001b[43m    \u001b[49m\u001b[43mtrain_dataset\u001b[49m\u001b[43m,\u001b[49m\n\u001b[1;32m     90\u001b[0m \u001b[43m    \u001b[49m\u001b[43mepochs\u001b[49m\u001b[38;5;241;43m=\u001b[39;49m\u001b[43mepochs\u001b[49m\u001b[43m,\u001b[49m\n\u001b[1;32m     91\u001b[0m \u001b[43m    \u001b[49m\u001b[43mvalidation_data\u001b[49m\u001b[38;5;241;43m=\u001b[39;49m\u001b[43mvalidation_dataset\u001b[49m\n\u001b[1;32m     92\u001b[0m \u001b[43m)\u001b[49m\n\u001b[1;32m     94\u001b[0m \u001b[38;5;28mprint\u001b[39m(\u001b[38;5;124m\"\u001b[39m\u001b[38;5;130;01m\\n\u001b[39;00m\u001b[38;5;124mTraining finished!\u001b[39m\u001b[38;5;124m\"\u001b[39m)\n\u001b[1;32m     96\u001b[0m \u001b[38;5;66;03m# --- Evaluate on the test set ---\u001b[39;00m\n",
      "File \u001b[0;32m/Library/Frameworks/Python.framework/Versions/3.8/lib/python3.8/site-packages/keras/src/utils/traceback_utils.py:65\u001b[0m, in \u001b[0;36mfilter_traceback.<locals>.error_handler\u001b[0;34m(*args, **kwargs)\u001b[0m\n\u001b[1;32m     63\u001b[0m filtered_tb \u001b[38;5;241m=\u001b[39m \u001b[38;5;28;01mNone\u001b[39;00m\n\u001b[1;32m     64\u001b[0m \u001b[38;5;28;01mtry\u001b[39;00m:\n\u001b[0;32m---> 65\u001b[0m     \u001b[38;5;28;01mreturn\u001b[39;00m \u001b[43mfn\u001b[49m\u001b[43m(\u001b[49m\u001b[38;5;241;43m*\u001b[39;49m\u001b[43margs\u001b[49m\u001b[43m,\u001b[49m\u001b[43m \u001b[49m\u001b[38;5;241;43m*\u001b[39;49m\u001b[38;5;241;43m*\u001b[39;49m\u001b[43mkwargs\u001b[49m\u001b[43m)\u001b[49m\n\u001b[1;32m     66\u001b[0m \u001b[38;5;28;01mexcept\u001b[39;00m \u001b[38;5;167;01mException\u001b[39;00m \u001b[38;5;28;01mas\u001b[39;00m e:\n\u001b[1;32m     67\u001b[0m     filtered_tb \u001b[38;5;241m=\u001b[39m _process_traceback_frames(e\u001b[38;5;241m.\u001b[39m__traceback__)\n",
      "File \u001b[0;32m/Library/Frameworks/Python.framework/Versions/3.8/lib/python3.8/site-packages/keras/src/engine/training.py:1742\u001b[0m, in \u001b[0;36mModel.fit\u001b[0;34m(self, x, y, batch_size, epochs, verbose, callbacks, validation_split, validation_data, shuffle, class_weight, sample_weight, initial_epoch, steps_per_epoch, validation_steps, validation_batch_size, validation_freq, max_queue_size, workers, use_multiprocessing)\u001b[0m\n\u001b[1;32m   1734\u001b[0m \u001b[38;5;28;01mwith\u001b[39;00m tf\u001b[38;5;241m.\u001b[39mprofiler\u001b[38;5;241m.\u001b[39mexperimental\u001b[38;5;241m.\u001b[39mTrace(\n\u001b[1;32m   1735\u001b[0m     \u001b[38;5;124m\"\u001b[39m\u001b[38;5;124mtrain\u001b[39m\u001b[38;5;124m\"\u001b[39m,\n\u001b[1;32m   1736\u001b[0m     epoch_num\u001b[38;5;241m=\u001b[39mepoch,\n\u001b[0;32m   (...)\u001b[0m\n\u001b[1;32m   1739\u001b[0m     _r\u001b[38;5;241m=\u001b[39m\u001b[38;5;241m1\u001b[39m,\n\u001b[1;32m   1740\u001b[0m ):\n\u001b[1;32m   1741\u001b[0m     callbacks\u001b[38;5;241m.\u001b[39mon_train_batch_begin(step)\n\u001b[0;32m-> 1742\u001b[0m     tmp_logs \u001b[38;5;241m=\u001b[39m \u001b[38;5;28;43mself\u001b[39;49m\u001b[38;5;241;43m.\u001b[39;49m\u001b[43mtrain_function\u001b[49m\u001b[43m(\u001b[49m\u001b[43miterator\u001b[49m\u001b[43m)\u001b[49m\n\u001b[1;32m   1743\u001b[0m     \u001b[38;5;28;01mif\u001b[39;00m data_handler\u001b[38;5;241m.\u001b[39mshould_sync:\n\u001b[1;32m   1744\u001b[0m         context\u001b[38;5;241m.\u001b[39masync_wait()\n",
      "File \u001b[0;32m/Library/Frameworks/Python.framework/Versions/3.8/lib/python3.8/site-packages/tensorflow/python/util/traceback_utils.py:150\u001b[0m, in \u001b[0;36mfilter_traceback.<locals>.error_handler\u001b[0;34m(*args, **kwargs)\u001b[0m\n\u001b[1;32m    148\u001b[0m filtered_tb \u001b[38;5;241m=\u001b[39m \u001b[38;5;28;01mNone\u001b[39;00m\n\u001b[1;32m    149\u001b[0m \u001b[38;5;28;01mtry\u001b[39;00m:\n\u001b[0;32m--> 150\u001b[0m   \u001b[38;5;28;01mreturn\u001b[39;00m \u001b[43mfn\u001b[49m\u001b[43m(\u001b[49m\u001b[38;5;241;43m*\u001b[39;49m\u001b[43margs\u001b[49m\u001b[43m,\u001b[49m\u001b[43m \u001b[49m\u001b[38;5;241;43m*\u001b[39;49m\u001b[38;5;241;43m*\u001b[39;49m\u001b[43mkwargs\u001b[49m\u001b[43m)\u001b[49m\n\u001b[1;32m    151\u001b[0m \u001b[38;5;28;01mexcept\u001b[39;00m \u001b[38;5;167;01mException\u001b[39;00m \u001b[38;5;28;01mas\u001b[39;00m e:\n\u001b[1;32m    152\u001b[0m   filtered_tb \u001b[38;5;241m=\u001b[39m _process_traceback_frames(e\u001b[38;5;241m.\u001b[39m__traceback__)\n",
      "File \u001b[0;32m/Library/Frameworks/Python.framework/Versions/3.8/lib/python3.8/site-packages/tensorflow/python/eager/polymorphic_function/polymorphic_function.py:825\u001b[0m, in \u001b[0;36mFunction.__call__\u001b[0;34m(self, *args, **kwds)\u001b[0m\n\u001b[1;32m    822\u001b[0m compiler \u001b[38;5;241m=\u001b[39m \u001b[38;5;124m\"\u001b[39m\u001b[38;5;124mxla\u001b[39m\u001b[38;5;124m\"\u001b[39m \u001b[38;5;28;01mif\u001b[39;00m \u001b[38;5;28mself\u001b[39m\u001b[38;5;241m.\u001b[39m_jit_compile \u001b[38;5;28;01melse\u001b[39;00m \u001b[38;5;124m\"\u001b[39m\u001b[38;5;124mnonXla\u001b[39m\u001b[38;5;124m\"\u001b[39m\n\u001b[1;32m    824\u001b[0m \u001b[38;5;28;01mwith\u001b[39;00m OptionalXlaContext(\u001b[38;5;28mself\u001b[39m\u001b[38;5;241m.\u001b[39m_jit_compile):\n\u001b[0;32m--> 825\u001b[0m   result \u001b[38;5;241m=\u001b[39m \u001b[38;5;28;43mself\u001b[39;49m\u001b[38;5;241;43m.\u001b[39;49m\u001b[43m_call\u001b[49m\u001b[43m(\u001b[49m\u001b[38;5;241;43m*\u001b[39;49m\u001b[43margs\u001b[49m\u001b[43m,\u001b[49m\u001b[43m \u001b[49m\u001b[38;5;241;43m*\u001b[39;49m\u001b[38;5;241;43m*\u001b[39;49m\u001b[43mkwds\u001b[49m\u001b[43m)\u001b[49m\n\u001b[1;32m    827\u001b[0m new_tracing_count \u001b[38;5;241m=\u001b[39m \u001b[38;5;28mself\u001b[39m\u001b[38;5;241m.\u001b[39mexperimental_get_tracing_count()\n\u001b[1;32m    828\u001b[0m without_tracing \u001b[38;5;241m=\u001b[39m (tracing_count \u001b[38;5;241m==\u001b[39m new_tracing_count)\n",
      "File \u001b[0;32m/Library/Frameworks/Python.framework/Versions/3.8/lib/python3.8/site-packages/tensorflow/python/eager/polymorphic_function/polymorphic_function.py:857\u001b[0m, in \u001b[0;36mFunction._call\u001b[0;34m(self, *args, **kwds)\u001b[0m\n\u001b[1;32m    854\u001b[0m   \u001b[38;5;28mself\u001b[39m\u001b[38;5;241m.\u001b[39m_lock\u001b[38;5;241m.\u001b[39mrelease()\n\u001b[1;32m    855\u001b[0m   \u001b[38;5;66;03m# In this case we have created variables on the first call, so we run the\u001b[39;00m\n\u001b[1;32m    856\u001b[0m   \u001b[38;5;66;03m# defunned version which is guaranteed to never create variables.\u001b[39;00m\n\u001b[0;32m--> 857\u001b[0m   \u001b[38;5;28;01mreturn\u001b[39;00m \u001b[38;5;28;43mself\u001b[39;49m\u001b[38;5;241;43m.\u001b[39;49m\u001b[43m_no_variable_creation_fn\u001b[49m\u001b[43m(\u001b[49m\u001b[38;5;241;43m*\u001b[39;49m\u001b[43margs\u001b[49m\u001b[43m,\u001b[49m\u001b[43m \u001b[49m\u001b[38;5;241;43m*\u001b[39;49m\u001b[38;5;241;43m*\u001b[39;49m\u001b[43mkwds\u001b[49m\u001b[43m)\u001b[49m  \u001b[38;5;66;03m# pylint: disable=not-callable\u001b[39;00m\n\u001b[1;32m    858\u001b[0m \u001b[38;5;28;01melif\u001b[39;00m \u001b[38;5;28mself\u001b[39m\u001b[38;5;241m.\u001b[39m_variable_creation_fn \u001b[38;5;129;01mis\u001b[39;00m \u001b[38;5;129;01mnot\u001b[39;00m \u001b[38;5;28;01mNone\u001b[39;00m:\n\u001b[1;32m    859\u001b[0m   \u001b[38;5;66;03m# Release the lock early so that multiple threads can perform the call\u001b[39;00m\n\u001b[1;32m    860\u001b[0m   \u001b[38;5;66;03m# in parallel.\u001b[39;00m\n\u001b[1;32m    861\u001b[0m   \u001b[38;5;28mself\u001b[39m\u001b[38;5;241m.\u001b[39m_lock\u001b[38;5;241m.\u001b[39mrelease()\n",
      "File \u001b[0;32m/Library/Frameworks/Python.framework/Versions/3.8/lib/python3.8/site-packages/tensorflow/python/eager/polymorphic_function/tracing_compiler.py:148\u001b[0m, in \u001b[0;36mTracingCompiler.__call__\u001b[0;34m(self, *args, **kwargs)\u001b[0m\n\u001b[1;32m    145\u001b[0m \u001b[38;5;28;01mwith\u001b[39;00m \u001b[38;5;28mself\u001b[39m\u001b[38;5;241m.\u001b[39m_lock:\n\u001b[1;32m    146\u001b[0m   (concrete_function,\n\u001b[1;32m    147\u001b[0m    filtered_flat_args) \u001b[38;5;241m=\u001b[39m \u001b[38;5;28mself\u001b[39m\u001b[38;5;241m.\u001b[39m_maybe_define_function(args, kwargs)\n\u001b[0;32m--> 148\u001b[0m \u001b[38;5;28;01mreturn\u001b[39;00m \u001b[43mconcrete_function\u001b[49m\u001b[38;5;241;43m.\u001b[39;49m\u001b[43m_call_flat\u001b[49m\u001b[43m(\u001b[49m\n\u001b[1;32m    149\u001b[0m \u001b[43m    \u001b[49m\u001b[43mfiltered_flat_args\u001b[49m\u001b[43m,\u001b[49m\u001b[43m \u001b[49m\u001b[43mcaptured_inputs\u001b[49m\u001b[38;5;241;43m=\u001b[39;49m\u001b[43mconcrete_function\u001b[49m\u001b[38;5;241;43m.\u001b[39;49m\u001b[43mcaptured_inputs\u001b[49m\u001b[43m)\u001b[49m\n",
      "File \u001b[0;32m/Library/Frameworks/Python.framework/Versions/3.8/lib/python3.8/site-packages/tensorflow/python/eager/polymorphic_function/monomorphic_function.py:1349\u001b[0m, in \u001b[0;36mConcreteFunction._call_flat\u001b[0;34m(self, args, captured_inputs)\u001b[0m\n\u001b[1;32m   1345\u001b[0m possible_gradient_type \u001b[38;5;241m=\u001b[39m gradients_util\u001b[38;5;241m.\u001b[39mPossibleTapeGradientTypes(args)\n\u001b[1;32m   1346\u001b[0m \u001b[38;5;28;01mif\u001b[39;00m (possible_gradient_type \u001b[38;5;241m==\u001b[39m gradients_util\u001b[38;5;241m.\u001b[39mPOSSIBLE_GRADIENT_TYPES_NONE\n\u001b[1;32m   1347\u001b[0m     \u001b[38;5;129;01mand\u001b[39;00m executing_eagerly):\n\u001b[1;32m   1348\u001b[0m   \u001b[38;5;66;03m# No tape is watching; skip to running the function.\u001b[39;00m\n\u001b[0;32m-> 1349\u001b[0m   \u001b[38;5;28;01mreturn\u001b[39;00m \u001b[38;5;28mself\u001b[39m\u001b[38;5;241m.\u001b[39m_build_call_outputs(\u001b[38;5;28;43mself\u001b[39;49m\u001b[38;5;241;43m.\u001b[39;49m\u001b[43m_inference_function\u001b[49m\u001b[43m(\u001b[49m\u001b[38;5;241;43m*\u001b[39;49m\u001b[43margs\u001b[49m\u001b[43m)\u001b[49m)\n\u001b[1;32m   1350\u001b[0m forward_backward \u001b[38;5;241m=\u001b[39m \u001b[38;5;28mself\u001b[39m\u001b[38;5;241m.\u001b[39m_select_forward_and_backward_functions(\n\u001b[1;32m   1351\u001b[0m     args,\n\u001b[1;32m   1352\u001b[0m     possible_gradient_type,\n\u001b[1;32m   1353\u001b[0m     executing_eagerly)\n\u001b[1;32m   1354\u001b[0m forward_function, args_with_tangents \u001b[38;5;241m=\u001b[39m forward_backward\u001b[38;5;241m.\u001b[39mforward()\n",
      "File \u001b[0;32m/Library/Frameworks/Python.framework/Versions/3.8/lib/python3.8/site-packages/tensorflow/python/eager/polymorphic_function/atomic_function.py:196\u001b[0m, in \u001b[0;36mAtomicFunction.__call__\u001b[0;34m(self, *args)\u001b[0m\n\u001b[1;32m    194\u001b[0m \u001b[38;5;28;01mwith\u001b[39;00m record\u001b[38;5;241m.\u001b[39mstop_recording():\n\u001b[1;32m    195\u001b[0m   \u001b[38;5;28;01mif\u001b[39;00m \u001b[38;5;28mself\u001b[39m\u001b[38;5;241m.\u001b[39m_bound_context\u001b[38;5;241m.\u001b[39mexecuting_eagerly():\n\u001b[0;32m--> 196\u001b[0m     outputs \u001b[38;5;241m=\u001b[39m \u001b[38;5;28;43mself\u001b[39;49m\u001b[38;5;241;43m.\u001b[39;49m\u001b[43m_bound_context\u001b[49m\u001b[38;5;241;43m.\u001b[39;49m\u001b[43mcall_function\u001b[49m\u001b[43m(\u001b[49m\n\u001b[1;32m    197\u001b[0m \u001b[43m        \u001b[49m\u001b[38;5;28;43mself\u001b[39;49m\u001b[38;5;241;43m.\u001b[39;49m\u001b[43mname\u001b[49m\u001b[43m,\u001b[49m\n\u001b[1;32m    198\u001b[0m \u001b[43m        \u001b[49m\u001b[38;5;28;43mlist\u001b[39;49m\u001b[43m(\u001b[49m\u001b[43margs\u001b[49m\u001b[43m)\u001b[49m\u001b[43m,\u001b[49m\n\u001b[1;32m    199\u001b[0m \u001b[43m        \u001b[49m\u001b[38;5;28;43mlen\u001b[39;49m\u001b[43m(\u001b[49m\u001b[38;5;28;43mself\u001b[39;49m\u001b[38;5;241;43m.\u001b[39;49m\u001b[43mfunction_type\u001b[49m\u001b[38;5;241;43m.\u001b[39;49m\u001b[43mflat_outputs\u001b[49m\u001b[43m)\u001b[49m\u001b[43m,\u001b[49m\n\u001b[1;32m    200\u001b[0m \u001b[43m    \u001b[49m\u001b[43m)\u001b[49m\n\u001b[1;32m    201\u001b[0m   \u001b[38;5;28;01melse\u001b[39;00m:\n\u001b[1;32m    202\u001b[0m     outputs \u001b[38;5;241m=\u001b[39m make_call_op_in_graph(\u001b[38;5;28mself\u001b[39m, \u001b[38;5;28mlist\u001b[39m(args))\n",
      "File \u001b[0;32m/Library/Frameworks/Python.framework/Versions/3.8/lib/python3.8/site-packages/tensorflow/python/eager/context.py:1457\u001b[0m, in \u001b[0;36mContext.call_function\u001b[0;34m(self, name, tensor_inputs, num_outputs)\u001b[0m\n\u001b[1;32m   1455\u001b[0m cancellation_context \u001b[38;5;241m=\u001b[39m cancellation\u001b[38;5;241m.\u001b[39mcontext()\n\u001b[1;32m   1456\u001b[0m \u001b[38;5;28;01mif\u001b[39;00m cancellation_context \u001b[38;5;129;01mis\u001b[39;00m \u001b[38;5;28;01mNone\u001b[39;00m:\n\u001b[0;32m-> 1457\u001b[0m   outputs \u001b[38;5;241m=\u001b[39m \u001b[43mexecute\u001b[49m\u001b[38;5;241;43m.\u001b[39;49m\u001b[43mexecute\u001b[49m\u001b[43m(\u001b[49m\n\u001b[1;32m   1458\u001b[0m \u001b[43m      \u001b[49m\u001b[43mname\u001b[49m\u001b[38;5;241;43m.\u001b[39;49m\u001b[43mdecode\u001b[49m\u001b[43m(\u001b[49m\u001b[38;5;124;43m\"\u001b[39;49m\u001b[38;5;124;43mutf-8\u001b[39;49m\u001b[38;5;124;43m\"\u001b[39;49m\u001b[43m)\u001b[49m\u001b[43m,\u001b[49m\n\u001b[1;32m   1459\u001b[0m \u001b[43m      \u001b[49m\u001b[43mnum_outputs\u001b[49m\u001b[38;5;241;43m=\u001b[39;49m\u001b[43mnum_outputs\u001b[49m\u001b[43m,\u001b[49m\n\u001b[1;32m   1460\u001b[0m \u001b[43m      \u001b[49m\u001b[43minputs\u001b[49m\u001b[38;5;241;43m=\u001b[39;49m\u001b[43mtensor_inputs\u001b[49m\u001b[43m,\u001b[49m\n\u001b[1;32m   1461\u001b[0m \u001b[43m      \u001b[49m\u001b[43mattrs\u001b[49m\u001b[38;5;241;43m=\u001b[39;49m\u001b[43mattrs\u001b[49m\u001b[43m,\u001b[49m\n\u001b[1;32m   1462\u001b[0m \u001b[43m      \u001b[49m\u001b[43mctx\u001b[49m\u001b[38;5;241;43m=\u001b[39;49m\u001b[38;5;28;43mself\u001b[39;49m\u001b[43m,\u001b[49m\n\u001b[1;32m   1463\u001b[0m \u001b[43m  \u001b[49m\u001b[43m)\u001b[49m\n\u001b[1;32m   1464\u001b[0m \u001b[38;5;28;01melse\u001b[39;00m:\n\u001b[1;32m   1465\u001b[0m   outputs \u001b[38;5;241m=\u001b[39m execute\u001b[38;5;241m.\u001b[39mexecute_with_cancellation(\n\u001b[1;32m   1466\u001b[0m       name\u001b[38;5;241m.\u001b[39mdecode(\u001b[38;5;124m\"\u001b[39m\u001b[38;5;124mutf-8\u001b[39m\u001b[38;5;124m\"\u001b[39m),\n\u001b[1;32m   1467\u001b[0m       num_outputs\u001b[38;5;241m=\u001b[39mnum_outputs,\n\u001b[0;32m   (...)\u001b[0m\n\u001b[1;32m   1471\u001b[0m       cancellation_manager\u001b[38;5;241m=\u001b[39mcancellation_context,\n\u001b[1;32m   1472\u001b[0m   )\n",
      "File \u001b[0;32m/Library/Frameworks/Python.framework/Versions/3.8/lib/python3.8/site-packages/tensorflow/python/eager/execute.py:53\u001b[0m, in \u001b[0;36mquick_execute\u001b[0;34m(op_name, num_outputs, inputs, attrs, ctx, name)\u001b[0m\n\u001b[1;32m     51\u001b[0m \u001b[38;5;28;01mtry\u001b[39;00m:\n\u001b[1;32m     52\u001b[0m   ctx\u001b[38;5;241m.\u001b[39mensure_initialized()\n\u001b[0;32m---> 53\u001b[0m   tensors \u001b[38;5;241m=\u001b[39m \u001b[43mpywrap_tfe\u001b[49m\u001b[38;5;241;43m.\u001b[39;49m\u001b[43mTFE_Py_Execute\u001b[49m\u001b[43m(\u001b[49m\u001b[43mctx\u001b[49m\u001b[38;5;241;43m.\u001b[39;49m\u001b[43m_handle\u001b[49m\u001b[43m,\u001b[49m\u001b[43m \u001b[49m\u001b[43mdevice_name\u001b[49m\u001b[43m,\u001b[49m\u001b[43m \u001b[49m\u001b[43mop_name\u001b[49m\u001b[43m,\u001b[49m\n\u001b[1;32m     54\u001b[0m \u001b[43m                                      \u001b[49m\u001b[43minputs\u001b[49m\u001b[43m,\u001b[49m\u001b[43m \u001b[49m\u001b[43mattrs\u001b[49m\u001b[43m,\u001b[49m\u001b[43m \u001b[49m\u001b[43mnum_outputs\u001b[49m\u001b[43m)\u001b[49m\n\u001b[1;32m     55\u001b[0m \u001b[38;5;28;01mexcept\u001b[39;00m core\u001b[38;5;241m.\u001b[39m_NotOkStatusException \u001b[38;5;28;01mas\u001b[39;00m e:\n\u001b[1;32m     56\u001b[0m   \u001b[38;5;28;01mif\u001b[39;00m name \u001b[38;5;129;01mis\u001b[39;00m \u001b[38;5;129;01mnot\u001b[39;00m \u001b[38;5;28;01mNone\u001b[39;00m:\n",
      "\u001b[0;31mKeyboardInterrupt\u001b[0m: "
     ]
    }
   ],
   "source": [
    "import os\n",
    "import tensorflow as tf\n",
    "from tensorflow.keras import layers, models\n",
    "from tensorflow.keras.optimizers.legacy import Adam\n",
    "from tensorflow.keras.preprocessing import image_dataset_from_directory\n",
    "\n",
    "main_dataset_dir = 'kaggleData'\n",
    "dataset_name = 'dataset1'\n",
    "dataset1_path = os.path.join(main_dataset_dir, dataset_name)\n",
    "image_height = 128\n",
    "image_width = 128\n",
    "batch_size = 32\n",
    "epochs = 30\n",
    "learning_rate = 0.0005\n",
    "num_classes = 2\n",
    "\n",
    "sampled_train_dir = os.path.join(dataset1_path, 'sampled_train')\n",
    "sampled_val_dir = os.path.join(dataset1_path, 'sampled_val')\n",
    "sampled_test_dir = os.path.join(dataset1_path, 'sampled_test')\n",
    "\n",
    "train_dataset = tf.keras.utils.image_dataset_from_directory(\n",
    "    sampled_train_dir,\n",
    "    labels='inferred',\n",
    "    label_mode='categorical',\n",
    "    image_size=(image_height, image_width),\n",
    "    batch_size=batch_size,\n",
    "    shuffle=True\n",
    ")\n",
    "\n",
    "validation_dataset = tf.keras.utils.image_dataset_from_directory(\n",
    "    sampled_val_dir,\n",
    "    labels='inferred',\n",
    "    label_mode='categorical',\n",
    "    image_size=(image_height, image_width),\n",
    "    batch_size=batch_size,\n",
    "    shuffle=False\n",
    ")\n",
    "\n",
    "test_dataset = tf.keras.utils.image_dataset_from_directory(\n",
    "    sampled_test_dir,\n",
    "    labels='inferred',\n",
    "    label_mode='categorical',"
   ]
  },
  {
   "cell_type": "code",
   "execution_count": null,
   "id": "24905edb",
   "metadata": {},
   "outputs": [
    {
     "name": "stdout",
     "output_type": "stream",
     "text": [
      "Found 29809 files belonging to 2 classes.\n",
      "Found 8389 files belonging to 2 classes.\n",
      "Found 3859 files belonging to 3 classes.\n",
      "Class names: ['fake', 'real']\n",
      "Number of classes: 2 \n",
      "\n",
      "Starting training with L2 regularization and early stopping...\n",
      "Epoch 1/30\n",
      "932/932 [==============================] - 204s 219ms/step - loss: 0.5851 - accuracy: 0.7477 - val_loss: 0.5811 - val_accuracy: 0.7623\n",
      "Epoch 2/30\n",
      "932/932 [==============================] - 207s 222ms/step - loss: 0.3128 - accuracy: 0.8941 - val_loss: 0.4154 - val_accuracy: 0.8385\n",
      "Epoch 3/30\n",
      "932/932 [==============================] - 220s 236ms/step - loss: 0.2501 - accuracy: 0.9229 - val_loss: 0.3374 - val_accuracy: 0.8927\n",
      "Epoch 4/30\n",
      "932/932 [==============================] - 224s 241ms/step - loss: 0.2212 - accuracy: 0.9370 - val_loss: 0.3326 - val_accuracy: 0.8882\n",
      "Epoch 5/30\n",
      "932/932 [==============================] - 226s 243ms/step - loss: 0.2058 - accuracy: 0.9452 - val_loss: 0.3587 - val_accuracy: 0.8750\n",
      "Epoch 6/30\n",
      "932/932 [==============================] - 224s 241ms/step - loss: 0.1965 - accuracy: 0.9490 - val_loss: 0.6135 - val_accuracy: 0.7833\n",
      "Epoch 7/30\n",
      "932/932 [==============================] - 235s 252ms/step - loss: 0.1903 - accuracy: 0.9533 - val_loss: 0.3784 - val_accuracy: 0.8722\n",
      "Epoch 8/30\n",
      "932/932 [==============================] - 228s 245ms/step - loss: 0.1855 - accuracy: 0.9572 - val_loss: 0.6080 - val_accuracy: 0.8429\n",
      "Epoch 9/30\n",
      "932/932 [==============================] - 226s 243ms/step - loss: 0.1754 - accuracy: 0.9632 - val_loss: 0.3764 - val_accuracy: 0.9056\n",
      "\n",
      "Training finished!\n",
      "\n",
      "Evaluating on the test set...\n"
     ]
    },
    {
     "ename": "InvalidArgumentError",
     "evalue": "Graph execution error:\n\nDetected at node 'categorical_crossentropy/softmax_cross_entropy_with_logits' defined at (most recent call last):\n    File \"/Library/Frameworks/Python.framework/Versions/3.8/lib/python3.8/runpy.py\", line 194, in _run_module_as_main\n      return _run_code(code, main_globals, None,\n    File \"/Library/Frameworks/Python.framework/Versions/3.8/lib/python3.8/runpy.py\", line 87, in _run_code\n      exec(code, run_globals)\n    File \"/Users/sathvikanadipalli/Library/Python/3.8/lib/python/site-packages/ipykernel_launcher.py\", line 18, in <module>\n      app.launch_new_instance()\n    File \"/Users/sathvikanadipalli/Library/Python/3.8/lib/python/site-packages/traitlets/config/application.py\", line 1075, in launch_instance\n      app.start()\n    File \"/Users/sathvikanadipalli/Library/Python/3.8/lib/python/site-packages/ipykernel/kernelapp.py\", line 739, in start\n      self.io_loop.start()\n    File \"/Users/sathvikanadipalli/Library/Python/3.8/lib/python/site-packages/tornado/platform/asyncio.py\", line 205, in start\n      self.asyncio_loop.run_forever()\n    File \"/Library/Frameworks/Python.framework/Versions/3.8/lib/python3.8/asyncio/base_events.py\", line 570, in run_forever\n      self._run_once()\n    File \"/Library/Frameworks/Python.framework/Versions/3.8/lib/python3.8/asyncio/base_events.py\", line 1859, in _run_once\n      handle._run()\n    File \"/Library/Frameworks/Python.framework/Versions/3.8/lib/python3.8/asyncio/events.py\", line 81, in _run\n      self._context.run(self._callback, *self._args)\n    File \"/Users/sathvikanadipalli/Library/Python/3.8/lib/python/site-packages/ipykernel/kernelbase.py\", line 545, in dispatch_queue\n      await self.process_one()\n    File \"/Users/sathvikanadipalli/Library/Python/3.8/lib/python/site-packages/ipykernel/kernelbase.py\", line 534, in process_one\n      await dispatch(*args)\n    File \"/Users/sathvikanadipalli/Library/Python/3.8/lib/python/site-packages/ipykernel/kernelbase.py\", line 437, in dispatch_shell\n      await result\n    File \"/Users/sathvikanadipalli/Library/Python/3.8/lib/python/site-packages/ipykernel/ipkernel.py\", line 362, in execute_request\n      await super().execute_request(stream, ident, parent)\n    File \"/Users/sathvikanadipalli/Library/Python/3.8/lib/python/site-packages/ipykernel/kernelbase.py\", line 778, in execute_request\n      reply_content = await reply_content\n    File \"/Users/sathvikanadipalli/Library/Python/3.8/lib/python/site-packages/ipykernel/ipkernel.py\", line 449, in do_execute\n      res = shell.run_cell(\n    File \"/Users/sathvikanadipalli/Library/Python/3.8/lib/python/site-packages/ipykernel/zmqshell.py\", line 549, in run_cell\n      return super().run_cell(*args, **kwargs)\n    File \"/Users/sathvikanadipalli/Library/Python/3.8/lib/python/site-packages/IPython/core/interactiveshell.py\", line 3009, in run_cell\n      result = self._run_cell(\n    File \"/Users/sathvikanadipalli/Library/Python/3.8/lib/python/site-packages/IPython/core/interactiveshell.py\", line 3064, in _run_cell\n      result = runner(coro)\n    File \"/Users/sathvikanadipalli/Library/Python/3.8/lib/python/site-packages/IPython/core/async_helpers.py\", line 129, in _pseudo_sync_runner\n      coro.send(None)\n    File \"/Users/sathvikanadipalli/Library/Python/3.8/lib/python/site-packages/IPython/core/interactiveshell.py\", line 3269, in run_cell_async\n      has_raised = await self.run_ast_nodes(code_ast.body, cell_name,\n    File \"/Users/sathvikanadipalli/Library/Python/3.8/lib/python/site-packages/IPython/core/interactiveshell.py\", line 3448, in run_ast_nodes\n      if await self.run_code(code, result, async_=asy):\n    File \"/Users/sathvikanadipalli/Library/Python/3.8/lib/python/site-packages/IPython/core/interactiveshell.py\", line 3508, in run_code\n      exec(code_obj, self.user_global_ns, self.user_ns)\n    File \"/var/folders/64/_h342z8175d41lnx0r7jdg8r0000gn/T/ipykernel_98772/1566807913.py\", line 104, in <module>\n      loss, accuracy = model.evaluate(test_dataset)\n    File \"/Library/Frameworks/Python.framework/Versions/3.8/lib/python3.8/site-packages/keras/src/utils/traceback_utils.py\", line 65, in error_handler\n      return fn(*args, **kwargs)\n    File \"/Library/Frameworks/Python.framework/Versions/3.8/lib/python3.8/site-packages/keras/src/engine/training.py\", line 2200, in evaluate\n      logs = test_function_runner.run_step(\n    File \"/Library/Frameworks/Python.framework/Versions/3.8/lib/python3.8/site-packages/keras/src/engine/training.py\", line 4000, in run_step\n      tmp_logs = self._function(dataset_or_iterator)\n    File \"/Library/Frameworks/Python.framework/Versions/3.8/lib/python3.8/site-packages/keras/src/engine/training.py\", line 1972, in test_function\n      return step_function(self, iterator)\n    File \"/Library/Frameworks/Python.framework/Versions/3.8/lib/python3.8/site-packages/keras/src/engine/training.py\", line 1956, in step_function\n      outputs = model.distribute_strategy.run(run_step, args=(data,))\n    File \"/Library/Frameworks/Python.framework/Versions/3.8/lib/python3.8/site-packages/keras/src/engine/training.py\", line 1944, in run_step\n      outputs = model.test_step(data)\n    File \"/Library/Frameworks/Python.framework/Versions/3.8/lib/python3.8/site-packages/keras/src/engine/training.py\", line 1852, in test_step\n      self.compute_loss(x, y, y_pred, sample_weight)\n    File \"/Library/Frameworks/Python.framework/Versions/3.8/lib/python3.8/site-packages/keras/src/engine/training.py\", line 1139, in compute_loss\n      return self.compiled_loss(\n    File \"/Library/Frameworks/Python.framework/Versions/3.8/lib/python3.8/site-packages/keras/src/engine/compile_utils.py\", line 265, in __call__\n      loss_value = loss_obj(y_t, y_p, sample_weight=sw)\n    File \"/Library/Frameworks/Python.framework/Versions/3.8/lib/python3.8/site-packages/keras/src/losses.py\", line 142, in __call__\n      losses = call_fn(y_true, y_pred)\n    File \"/Library/Frameworks/Python.framework/Versions/3.8/lib/python3.8/site-packages/keras/src/losses.py\", line 268, in call\n      return ag_fn(y_true, y_pred, **self._fn_kwargs)\n    File \"/Library/Frameworks/Python.framework/Versions/3.8/lib/python3.8/site-packages/keras/src/losses.py\", line 2122, in categorical_crossentropy\n      return backend.categorical_crossentropy(\n    File \"/Library/Frameworks/Python.framework/Versions/3.8/lib/python3.8/site-packages/keras/src/backend.py\", line 5566, in categorical_crossentropy\n      return tf.nn.softmax_cross_entropy_with_logits(\nNode: 'categorical_crossentropy/softmax_cross_entropy_with_logits'\nlogits and labels must be broadcastable: logits_size=[32,2] labels_size=[32,3]\n\t [[{{node categorical_crossentropy/softmax_cross_entropy_with_logits}}]] [Op:__inference_test_function_164239]",
     "output_type": "error",
     "traceback": [
      "\u001b[0;31m---------------------------------------------------------------------------\u001b[0m",
      "\u001b[0;31mInvalidArgumentError\u001b[0m                      Traceback (most recent call last)",
      "Cell \u001b[0;32mIn[40], line 104\u001b[0m\n\u001b[1;32m    102\u001b[0m \u001b[38;5;66;03m# --- Evaluate on the test set ---\u001b[39;00m\n\u001b[1;32m    103\u001b[0m \u001b[38;5;28mprint\u001b[39m(\u001b[38;5;124m\"\u001b[39m\u001b[38;5;130;01m\\n\u001b[39;00m\u001b[38;5;124mEvaluating on the test set...\u001b[39m\u001b[38;5;124m\"\u001b[39m)\n\u001b[0;32m--> 104\u001b[0m loss, accuracy \u001b[38;5;241m=\u001b[39m \u001b[43mmodel\u001b[49m\u001b[38;5;241;43m.\u001b[39;49m\u001b[43mevaluate\u001b[49m\u001b[43m(\u001b[49m\u001b[43mtest_dataset\u001b[49m\u001b[43m)\u001b[49m\n\u001b[1;32m    105\u001b[0m \u001b[38;5;28mprint\u001b[39m(\u001b[38;5;124mf\u001b[39m\u001b[38;5;124m\"\u001b[39m\u001b[38;5;124mTest Loss: \u001b[39m\u001b[38;5;132;01m{\u001b[39;00mloss\u001b[38;5;132;01m:\u001b[39;00m\u001b[38;5;124m.4f\u001b[39m\u001b[38;5;132;01m}\u001b[39;00m\u001b[38;5;124m\"\u001b[39m)\n\u001b[1;32m    106\u001b[0m \u001b[38;5;28mprint\u001b[39m(\u001b[38;5;124mf\u001b[39m\u001b[38;5;124m\"\u001b[39m\u001b[38;5;124mTest Accuracy: \u001b[39m\u001b[38;5;132;01m{\u001b[39;00maccuracy\u001b[38;5;132;01m:\u001b[39;00m\u001b[38;5;124m.4f\u001b[39m\u001b[38;5;132;01m}\u001b[39;00m\u001b[38;5;124m\"\u001b[39m)\n",
      "File \u001b[0;32m/Library/Frameworks/Python.framework/Versions/3.8/lib/python3.8/site-packages/keras/src/utils/traceback_utils.py:70\u001b[0m, in \u001b[0;36mfilter_traceback.<locals>.error_handler\u001b[0;34m(*args, **kwargs)\u001b[0m\n\u001b[1;32m     67\u001b[0m     filtered_tb \u001b[38;5;241m=\u001b[39m _process_traceback_frames(e\u001b[38;5;241m.\u001b[39m__traceback__)\n\u001b[1;32m     68\u001b[0m     \u001b[38;5;66;03m# To get the full stack trace, call:\u001b[39;00m\n\u001b[1;32m     69\u001b[0m     \u001b[38;5;66;03m# `tf.debugging.disable_traceback_filtering()`\u001b[39;00m\n\u001b[0;32m---> 70\u001b[0m     \u001b[38;5;28;01mraise\u001b[39;00m e\u001b[38;5;241m.\u001b[39mwith_traceback(filtered_tb) \u001b[38;5;28;01mfrom\u001b[39;00m \u001b[38;5;28;01mNone\u001b[39;00m\n\u001b[1;32m     71\u001b[0m \u001b[38;5;28;01mfinally\u001b[39;00m:\n\u001b[1;32m     72\u001b[0m     \u001b[38;5;28;01mdel\u001b[39;00m filtered_tb\n",
      "File \u001b[0;32m/Library/Frameworks/Python.framework/Versions/3.8/lib/python3.8/site-packages/tensorflow/python/eager/execute.py:53\u001b[0m, in \u001b[0;36mquick_execute\u001b[0;34m(op_name, num_outputs, inputs, attrs, ctx, name)\u001b[0m\n\u001b[1;32m     51\u001b[0m \u001b[38;5;28;01mtry\u001b[39;00m:\n\u001b[1;32m     52\u001b[0m   ctx\u001b[38;5;241m.\u001b[39mensure_initialized()\n\u001b[0;32m---> 53\u001b[0m   tensors \u001b[38;5;241m=\u001b[39m pywrap_tfe\u001b[38;5;241m.\u001b[39mTFE_Py_Execute(ctx\u001b[38;5;241m.\u001b[39m_handle, device_name, op_name,\n\u001b[1;32m     54\u001b[0m                                       inputs, attrs, num_outputs)\n\u001b[1;32m     55\u001b[0m \u001b[38;5;28;01mexcept\u001b[39;00m core\u001b[38;5;241m.\u001b[39m_NotOkStatusException \u001b[38;5;28;01mas\u001b[39;00m e:\n\u001b[1;32m     56\u001b[0m   \u001b[38;5;28;01mif\u001b[39;00m name \u001b[38;5;129;01mis\u001b[39;00m \u001b[38;5;129;01mnot\u001b[39;00m \u001b[38;5;28;01mNone\u001b[39;00m:\n",
      "\u001b[0;31mInvalidArgumentError\u001b[0m: Graph execution error:\n\nDetected at node 'categorical_crossentropy/softmax_cross_entropy_with_logits' defined at (most recent call last):\n    File \"/Library/Frameworks/Python.framework/Versions/3.8/lib/python3.8/runpy.py\", line 194, in _run_module_as_main\n      return _run_code(code, main_globals, None,\n    File \"/Library/Frameworks/Python.framework/Versions/3.8/lib/python3.8/runpy.py\", line 87, in _run_code\n      exec(code, run_globals)\n    File \"/Users/sathvikanadipalli/Library/Python/3.8/lib/python/site-packages/ipykernel_launcher.py\", line 18, in <module>\n      app.launch_new_instance()\n    File \"/Users/sathvikanadipalli/Library/Python/3.8/lib/python/site-packages/traitlets/config/application.py\", line 1075, in launch_instance\n      app.start()\n    File \"/Users/sathvikanadipalli/Library/Python/3.8/lib/python/site-packages/ipykernel/kernelapp.py\", line 739, in start\n      self.io_loop.start()\n    File \"/Users/sathvikanadipalli/Library/Python/3.8/lib/python/site-packages/tornado/platform/asyncio.py\", line 205, in start\n      self.asyncio_loop.run_forever()\n    File \"/Library/Frameworks/Python.framework/Versions/3.8/lib/python3.8/asyncio/base_events.py\", line 570, in run_forever\n      self._run_once()\n    File \"/Library/Frameworks/Python.framework/Versions/3.8/lib/python3.8/asyncio/base_events.py\", line 1859, in _run_once\n      handle._run()\n    File \"/Library/Frameworks/Python.framework/Versions/3.8/lib/python3.8/asyncio/events.py\", line 81, in _run\n      self._context.run(self._callback, *self._args)\n    File \"/Users/sathvikanadipalli/Library/Python/3.8/lib/python/site-packages/ipykernel/kernelbase.py\", line 545, in dispatch_queue\n      await self.process_one()\n    File \"/Users/sathvikanadipalli/Library/Python/3.8/lib/python/site-packages/ipykernel/kernelbase.py\", line 534, in process_one\n      await dispatch(*args)\n    File \"/Users/sathvikanadipalli/Library/Python/3.8/lib/python/site-packages/ipykernel/kernelbase.py\", line 437, in dispatch_shell\n      await result\n    File \"/Users/sathvikanadipalli/Library/Python/3.8/lib/python/site-packages/ipykernel/ipkernel.py\", line 362, in execute_request\n      await super().execute_request(stream, ident, parent)\n    File \"/Users/sathvikanadipalli/Library/Python/3.8/lib/python/site-packages/ipykernel/kernelbase.py\", line 778, in execute_request\n      reply_content = await reply_content\n    File \"/Users/sathvikanadipalli/Library/Python/3.8/lib/python/site-packages/ipykernel/ipkernel.py\", line 449, in do_execute\n      res = shell.run_cell(\n    File \"/Users/sathvikanadipalli/Library/Python/3.8/lib/python/site-packages/ipykernel/zmqshell.py\", line 549, in run_cell\n      return super().run_cell(*args, **kwargs)\n    File \"/Users/sathvikanadipalli/Library/Python/3.8/lib/python/site-packages/IPython/core/interactiveshell.py\", line 3009, in run_cell\n      result = self._run_cell(\n    File \"/Users/sathvikanadipalli/Library/Python/3.8/lib/python/site-packages/IPython/core/interactiveshell.py\", line 3064, in _run_cell\n      result = runner(coro)\n    File \"/Users/sathvikanadipalli/Library/Python/3.8/lib/python/site-packages/IPython/core/async_helpers.py\", line 129, in _pseudo_sync_runner\n      coro.send(None)\n    File \"/Users/sathvikanadipalli/Library/Python/3.8/lib/python/site-packages/IPython/core/interactiveshell.py\", line 3269, in run_cell_async\n      has_raised = await self.run_ast_nodes(code_ast.body, cell_name,\n    File \"/Users/sathvikanadipalli/Library/Python/3.8/lib/python/site-packages/IPython/core/interactiveshell.py\", line 3448, in run_ast_nodes\n      if await self.run_code(code, result, async_=asy):\n    File \"/Users/sathvikanadipalli/Library/Python/3.8/lib/python/site-packages/IPython/core/interactiveshell.py\", line 3508, in run_code\n      exec(code_obj, self.user_global_ns, self.user_ns)\n    File \"/var/folders/64/_h342z8175d41lnx0r7jdg8r0000gn/T/ipykernel_98772/1566807913.py\", line 104, in <module>\n      loss, accuracy = model.evaluate(test_dataset)\n    File \"/Library/Frameworks/Python.framework/Versions/3.8/lib/python3.8/site-packages/keras/src/utils/traceback_utils.py\", line 65, in error_handler\n      return fn(*args, **kwargs)\n    File \"/Library/Frameworks/Python.framework/Versions/3.8/lib/python3.8/site-packages/keras/src/engine/training.py\", line 2200, in evaluate\n      logs = test_function_runner.run_step(\n    File \"/Library/Frameworks/Python.framework/Versions/3.8/lib/python3.8/site-packages/keras/src/engine/training.py\", line 4000, in run_step\n      tmp_logs = self._function(dataset_or_iterator)\n    File \"/Library/Frameworks/Python.framework/Versions/3.8/lib/python3.8/site-packages/keras/src/engine/training.py\", line 1972, in test_function\n      return step_function(self, iterator)\n    File \"/Library/Frameworks/Python.framework/Versions/3.8/lib/python3.8/site-packages/keras/src/engine/training.py\", line 1956, in step_function\n      outputs = model.distribute_strategy.run(run_step, args=(data,))\n    File \"/Library/Frameworks/Python.framework/Versions/3.8/lib/python3.8/site-packages/keras/src/engine/training.py\", line 1944, in run_step\n      outputs = model.test_step(data)\n    File \"/Library/Frameworks/Python.framework/Versions/3.8/lib/python3.8/site-packages/keras/src/engine/training.py\", line 1852, in test_step\n      self.compute_loss(x, y, y_pred, sample_weight)\n    File \"/Library/Frameworks/Python.framework/Versions/3.8/lib/python3.8/site-packages/keras/src/engine/training.py\", line 1139, in compute_loss\n      return self.compiled_loss(\n    File \"/Library/Frameworks/Python.framework/Versions/3.8/lib/python3.8/site-packages/keras/src/engine/compile_utils.py\", line 265, in __call__\n      loss_value = loss_obj(y_t, y_p, sample_weight=sw)\n    File \"/Library/Frameworks/Python.framework/Versions/3.8/lib/python3.8/site-packages/keras/src/losses.py\", line 142, in __call__\n      losses = call_fn(y_true, y_pred)\n    File \"/Library/Frameworks/Python.framework/Versions/3.8/lib/python3.8/site-packages/keras/src/losses.py\", line 268, in call\n      return ag_fn(y_true, y_pred, **self._fn_kwargs)\n    File \"/Library/Frameworks/Python.framework/Versions/3.8/lib/python3.8/site-packages/keras/src/losses.py\", line 2122, in categorical_crossentropy\n      return backend.categorical_crossentropy(\n    File \"/Library/Frameworks/Python.framework/Versions/3.8/lib/python3.8/site-packages/keras/src/backend.py\", line 5566, in categorical_crossentropy\n      return tf.nn.softmax_cross_entropy_with_logits(\nNode: 'categorical_crossentropy/softmax_cross_entropy_with_logits'\nlogits and labels must be broadcastable: logits_size=[32,2] labels_size=[32,3]\n\t [[{{node categorical_crossentropy/softmax_cross_entropy_with_logits}}]] [Op:__inference_test_function_164239]"
     ]
    }
   ],
   "source": [
    "import os\n",
    "import tensorflow as tf\n",
    "from tensorflow.keras import layers, models, regularizers\n",
    "from tensorflow.keras.optimizers.legacy import Adam\n",
    "from tensorflow.keras.preprocessing import image_dataset_from_directory\n",
    "from tensorflow.keras.callbacks import EarlyStopping\n",
    "\n",
    "main_dataset_dir = 'kaggleData'\n",
    "dataset_name = 'dataset1'\n",
    "dataset1_path = os.path.join(main_dataset_dir, dataset_name)\n",
    "image_height = 128\n",
    "image_width = 128\n",
    "batch_size = 32\n",
    "epochs = 30\n",
    "learning_rate = 0.0005\n",
    "num_classes = 2\n",
    "l2_lambda = 0.0001\n",
    "\n",
    "sampled_train_dir = os.path.join(dataset1_path, 'sampled_train')\n",
    "sampled_val_dir = os.path.join(dataset1_path, 'sampled_val')\n",
    "sampled_test_dir = os.path.join(dataset1_path, 'sampled_test')\n",
    "\n",
    "train_dataset = tf.keras.utils.image_dataset_from_directory(\n",
    "    sampled_train_dir,\n",
    "    labels='inferred',\n",
    "    label_mode='categorical',\n",
    "    image_size=(image_height, image_width),\n",
    "    batch_size=batch_size,\n",
    "    shuffle=True\n",
    ")\n",
    "\n",
    "validation_dataset = tf.keras.utils.image_dataset_from_directory(\n",
    "    sampled_val_dir,\n",
    "    labels='inferred',\n",
    "    label_mode='categorical',\n",
    "    image_size=(image_height, image_width),\n",
    "    batch_size=batch_size,\n",
    "    shuffle=False\n",
    ")\n",
    "\n",
    "test_dataset = tf.keras.utils.image_dataset_from_directory(\n",
    "    sampled_test_dir,\n",
    "    labels='inferred',\n",
    "    label_mode='categorical',\n",
    "    image_size=(image_height, image_width),\n",
    "    batch_size=batch_size,\n",
    "    shuffle=False\n",
    ")\n",
    "\n",
    "class_names = train_dataset.class_names\n",
    "print(\"Class names:\", class_names)\n",
    "print(\"Number of classes:\", num_classes, \"\\n\")\n",
    "\n",
    "model = models.Sequential([\n",
    "    layers.Conv2D(32, (3, 3), activation='relu', input_shape=(image_height, image_width, 3),\n",
    "                  kernel_regularizer=regularizers"
   ]
  },
  {
   "cell_type": "markdown",
   "id": "91f9cd40",
   "metadata": {},
   "source": [
    "**Pivoting Project Ideas: want to make a chrome extension that allows you to select an image on a screen and determine if it is fake or not**"
   ]
  },
  {
   "cell_type": "code",
   "execution_count": null,
   "id": "deb2cdc9",
   "metadata": {},
   "outputs": [
    {
     "name": "stdout",
     "output_type": "stream",
     "text": [
      "Found 1001 files belonging to 2 classes.\n",
      "Found 388 files belonging to 2 classes.\n",
      "Found 229 files belonging to 2 classes.\n",
      "Sample Training Dataset:\n",
      "Image batch shape: (32, 224, 224, 3)\n",
      "Labels batch shape: (32, 1)\n",
      "\n",
      "Sample Validation Dataset:\n",
      "Image batch shape: (32, 224, 224, 3)\n",
      "Labels batch shape: (32, 1)\n",
      "\n",
      "Sample Test Dataset:\n",
      "Image batch shape: (32, 224, 224, 3)\n",
      "Labels batch shape: (32, 1)\n",
      "\n",
      "Datasets with preprocessing applied:\n",
      "Processed image batch dtype: <dtype: 'float32'>\n"
     ]
    }
   ],
   "source": [
    "import tensorflow as tf\n",
    "import os\n",
    "\n",
    "main_dataset_dir = 'Midjourney_Exp2'\n",
    "\n",
    "image_height = 224\n",
    "image_width = 224\n",
    "batch_size = 32\n",
    "\n",
    "def load_dataset(directory):\n",
    "    dataset = tf.keras.utils.image_dataset_from_directory(\n",
    "        directory,\n",
    "        labels='inferred',\n",
    "        label_mode='binary',\n",
    "        image_size=(image_height, image_width),\n",
    "        batch_size=batch_size,\n",
    "        shuffle=True\n",
    "    )\n",
    "    return dataset\n",
    "\n",
    "train_dir = os.path.join(main_dataset_dir, 'train')\n",
    "valid_dir = os.path.join(main_dataset_dir, 'valid')\n",
    "test_dir = os.path.join(main_dataset_dir, 'test')\n",
    "\n",
    "sample_train = load_dataset(train_dir)\n",
    "sample_valis = load_dataset(valid_dir)\n",
    "sample_test = load_dataset(test_dir)\n",
    "\n",
    "print(\"Sample Training Dataset:\")\n",
    "for image_batch, labels_batch in sample_train.take(1):\n",
    "    print(\"Image batch shape:\", image_batch.numpy().shape)\n",
    "    print(\"Labels batch shape:\", labels_batch.numpy().shape)\n",
    "\n",
    "print(\"\\nSample Validation Dataset:\")\n",
    "for image_batch, labels_batch in sample_valis.take(1):\n",
    "    print(\"Image batch shape:\", image_batch.numpy().shape)\n",
    "    print(\"Labels batch shape:\", labels_batch.numpy().shape)\n",
    "\n",
    "print(\"\\nSample Test Dataset:\")\n",
    "for image_batch, labels_batch in sample_test.take(1):\n",
    "    print(\"Image batch shape:\", image_batch.numpy().shape)\n",
    "    print(\"Labels batch shape:\", labels_batch.numpy().shape)\n",
    "\n",
    "def preprocess(image, label):\n",
    "    image = tf.image.convert_image_dtype(image, dtype=tf.float32)\n",
    "    return image, label\n",
    "\n",
    "sample_train = sample_train.map(preprocess)\n",
    "sample_valis = sample_valis.map(preprocess)\n",
    "sample_test = sample_test.map(preprocess)\n",
    "\n",
    "print(\"\\nDatasets with preprocessing applied:\")\n",
    "for image_batch, labels_batch in sample_train.take(1):\n",
    "    print(\"Processed image batch dtype:\", image_batch.dtype)\n",
    "    break"
   ]
  },
  {
   "cell_type": "code",
   "execution_count": 6,
   "id": "32b5d08e",
   "metadata": {},
   "outputs": [],
   "source": [
    "# Allowong SSL verification wasn't working before so pretrained models was not being downloaded\n",
    "import ssl\n",
    "ssl._create_default_https_context = ssl._create_unverified_context"
   ]
  },
  {
   "cell_type": "code",
   "execution_count": null,
   "id": "d839644e",
   "metadata": {},
   "outputs": [
    {
     "name": "stdout",
     "output_type": "stream",
     "text": [
      "Model: \"sequential_2\"\n",
      "_________________________________________________________________\n",
      " Layer (type)                Output Shape              Param #   \n",
      "=================================================================\n",
      " MobilenetV3small (Function  (None, 7, 7, 576)         939120    \n",
      " al)                                                             \n",
      "                                                                 \n",
      " global_average_pooling2d_2  (None, 576)               0         \n",
      "  (GlobalAveragePooling2D)                                       \n",
      "                                                                 \n",
      " dropout_2 (Dropout)         (None, 576)               0         \n",
      "                                                                 \n",
      " dense_2 (Dense)             (None, 1)                 577       \n",
      "                                                                 \n",
      "=================================================================\n",
      "Total params: 939697 (3.58 MB)\n",
      "Trainable params: 577 (2.25 KB)\n",
      "Non-trainable params: 939120 (3.58 MB)\n",
      "_________________________________________________________________\n"
     ]
    }
   ],
   "source": [
    "from tensorflow.keras.applications import MobileNetV3Small  # Or MobileNetV3Large\n",
    "from tensorflow.keras import layers, models\n",
    "\n",
    "base_model = MobileNetV3Small(\n",
    "    include_top=False,\n",
    "    weights='imagenet',\n",
    "    input_shape=(image_height, image_width, 3)\n",
    ")\n",
    "\n",
    "base_model.trainable = False\n",
    "\n",
    "global_average_layer = layers.GlobalAveragePooling2D()\n",
    "prediction_layer = layers.Dense(1, activation='sigmoid')\n",
    "\n",
    "model = models.Sequential([\n",
    "    base_model,\n",
    "    global_average_layer,\n",
    "    layers.Dropout(0.5),\n",
    "    prediction_layer\n",
    "])\n",
    "\n",
    "model.compile(optimizer='adam',\n",
    "              loss='binary_crossentropy',\n",
    "              metrics=['accuracy'])\n",
    "\n",
    "model.summary()"
   ]
  },
  {
   "cell_type": "code",
   "execution_count": null,
   "id": "3b1dfd94",
   "metadata": {},
   "outputs": [
    {
     "name": "stdout",
     "output_type": "stream",
     "text": [
      "Epoch 1/10\n",
      "32/32 [==============================] - 11s 302ms/step - loss: 0.7051 - accuracy: 0.6254 - val_loss: 0.5786 - val_accuracy: 0.7062\n",
      "Epoch 2/10\n",
      "32/32 [==============================] - 11s 298ms/step - loss: 0.6480 - accuracy: 0.6474 - val_loss: 0.5549 - val_accuracy: 0.7216\n",
      "Epoch 3/10\n",
      "32/32 [==============================] - 11s 299ms/step - loss: 0.6145 - accuracy: 0.6893 - val_loss: 0.5348 - val_accuracy: 0.7577\n",
      "Epoch 4/10\n",
      "32/32 [==============================] - 11s 295ms/step - loss: 0.5658 - accuracy: 0.7213 - val_loss: 0.5212 - val_accuracy: 0.7680\n",
      "Epoch 5/10\n",
      "32/32 [==============================] - 11s 299ms/step - loss: 0.5465 - accuracy: 0.7313 - val_loss: 0.5164 - val_accuracy: 0.7706\n",
      "Epoch 6/10\n",
      "32/32 [==============================] - 11s 295ms/step - loss: 0.5308 - accuracy: 0.7443 - val_loss: 0.5041 - val_accuracy: 0.7784\n",
      "Epoch 7/10\n",
      "32/32 [==============================] - 11s 304ms/step - loss: 0.4917 - accuracy: 0.7682 - val_loss: 0.4977 - val_accuracy: 0.7835\n",
      "Epoch 8/10\n",
      "32/32 [==============================] - 11s 301ms/step - loss: 0.4672 - accuracy: 0.7852 - val_loss: 0.4904 - val_accuracy: 0.7887\n",
      "Epoch 9/10\n",
      "32/32 [==============================] - 11s 302ms/step - loss: 0.4652 - accuracy: 0.7782 - val_loss: 0.4894 - val_accuracy: 0.7964\n",
      "Epoch 10/10\n",
      "32/32 [==============================] - 11s 304ms/step - loss: 0.4582 - accuracy: 0.7862 - val_loss: 0.4812 - val_accuracy: 0.8041\n"
     ]
    },
    {
     "ename": "NameError",
     "evalue": "name 'test_dataset' is not defined",
     "output_type": "error",
     "traceback": [
      "\u001b[0;31m---------------------------------------------------------------------------\u001b[0m",
      "\u001b[0;31mNameError\u001b[0m                                 Traceback (most recent call last)",
      "Cell \u001b[0;32mIn[14], line 9\u001b[0m\n\u001b[1;32m      3\u001b[0m history \u001b[38;5;241m=\u001b[39m model\u001b[38;5;241m.\u001b[39mfit(\n\u001b[1;32m      4\u001b[0m     sample_train,\n\u001b[1;32m      5\u001b[0m     epochs\u001b[38;5;241m=\u001b[39mepochs,\n\u001b[1;32m      6\u001b[0m     validation_data\u001b[38;5;241m=\u001b[39msample_valis\n\u001b[1;32m      7\u001b[0m )\n\u001b[1;32m      8\u001b[0m \u001b[38;5;66;03m# Evaluate the trained model on the test dataset\u001b[39;00m\n\u001b[0;32m----> 9\u001b[0m loss, accuracy \u001b[38;5;241m=\u001b[39m model\u001b[38;5;241m.\u001b[39mevaluate(\u001b[43mtest_dataset\u001b[49m)\n\u001b[1;32m     10\u001b[0m \u001b[38;5;28mprint\u001b[39m(\u001b[38;5;124mf\u001b[39m\u001b[38;5;124m\"\u001b[39m\u001b[38;5;124mTest Loss: \u001b[39m\u001b[38;5;132;01m{\u001b[39;00mloss\u001b[38;5;132;01m:\u001b[39;00m\u001b[38;5;124m.4f\u001b[39m\u001b[38;5;132;01m}\u001b[39;00m\u001b[38;5;124m\"\u001b[39m)\n\u001b[1;32m     11\u001b[0m \u001b[38;5;28mprint\u001b[39m(\u001b[38;5;124mf\u001b[39m\u001b[38;5;124m\"\u001b[39m\u001b[38;5;124mTest Accuracy: \u001b[39m\u001b[38;5;132;01m{\u001b[39;00maccuracy\u001b[38;5;132;01m:\u001b[39;00m\u001b[38;5;124m.4f\u001b[39m\u001b[38;5;132;01m}\u001b[39;00m\u001b[38;5;124m\"\u001b[39m)\n",
      "\u001b[0;31mNameError\u001b[0m: name 'test_dataset' is not defined"
     ]
    }
   ],
   "source": [
    "epochs = 10  \n",
    "\n",
    "history = model.fit(\n",
    "    sample_train,\n",
    "    epochs=epochs,\n",
    "    validation_data=sample_valis\n",
    ")\n"
   ]
  },
  {
   "cell_type": "code",
   "execution_count": null,
   "id": "7a9ed9b1",
   "metadata": {},
   "outputs": [
    {
     "name": "stdout",
     "output_type": "stream",
     "text": [
      "8/8 [==============================] - 1s 61ms/step - loss: 0.3549 - accuracy: 0.8777\n",
      "Test Loss: 0.3549\n",
      "Test Accuracy: 0.8777\n"
     ]
    }
   ],
   "source": [
    "loss, accuracy = model.evaluate(sample_test) \n",
    "print(f\"Test Loss: {loss:.4f}\")\n",
    "print(f\"Test Accuracy: {accuracy:.4f}\")"
   ]
  },
  {
   "cell_type": "code",
   "execution_count": null,
   "id": "339e4b27",
   "metadata": {},
   "outputs": [
    {
     "name": "stdout",
     "output_type": "stream",
     "text": [
      "Predictions for Individual Test Images:\n",
      "1/1 [==============================] - 0s 14ms/step\n",
      "Image: 0012.jpg, Predicted Probability (Fake): 0.0925\n",
      "Prediction: Likely REAL\n",
      "------------------------------\n",
      "1/1 [==============================] - 0s 15ms/step\n",
      "Image: Screenshot 2025-04-19 at 7.11.30 PM.jpg, Predicted Probability (Fake): 0.8813\n",
      "Prediction: Likely FAKE\n",
      "------------------------------\n",
      "1/1 [==============================] - 0s 15ms/step\n",
      "Image: 0006.jpg, Predicted Probability (Fake): 0.2969\n",
      "Prediction: Likely REAL\n",
      "------------------------------\n"
     ]
    }
   ],
   "source": [
    "import tensorflow as tf\n",
    "from tensorflow.keras.preprocessing import image\n",
    "import numpy as np\n",
    "\n",
    "test_image_paths = ['0012.jpg',\n",
    "                    'Screenshot 2025-04-19 at 7.11.30 PM.jpg',\n",
    "                    '0006.jpg']\n",
    "\n",
    "img_height = 224\n",
    "img_width = 224\n",
    "\n",
    "def preprocess_image(img_path):\n",
    "    img = image.load_img(img_path, target_size=(img_height, img_width))\n",
    "    img_array = image.img_to_array(img)\n",
    "    img_array = np.expand_dims(img_array, axis=0)  # Add batch dimension\n",
    "    img_array = tf.image.convert_image_dtype(img_array, dtype=tf.float32)\n",
    "    return img_array\n",
    "\n",
    "print(\"Predictions for Individual Test Images:\")\n",
    "for img_path in test_image_paths:\n",
    "    try:\n",
    "        processed_img = preprocess_image(img_path)\n",
    "        prediction = model.predict(processed_img)[0][0]\n",
    "        print(f\"Image: {img_path}, Predicted Probability (Fake): {prediction:.4f}\")\n",
    "        if prediction > 0.5:\n",
    "            print(\"Prediction: Likely FAKE\")\n",
    "        else:\n",
    "            print(\"Prediction: Likely REAL\")\n",
    "        print(\"-\" * 30)\n",
    "    except FileNotFoundError:\n",
    "        print(f\"Error: Image not found at {img_path}\")\n",
    "    except Exception as e:\n",
    "        print(f\"Error processing image {img_path}: {e}\")"
   ]
  },
  {
   "cell_type": "markdown",
   "id": "0ab4ed39",
   "metadata": {},
   "source": [
    "**Start of Our Large Dataset Training and Testing**"
   ]
  },
  {
   "cell_type": "code",
   "execution_count": 41,
   "id": "9cb6544a",
   "metadata": {},
   "outputs": [
    {
     "name": "stdout",
     "output_type": "stream",
     "text": [
      "Found 31480 files belonging to 2 classes.\n",
      "Found 1651 files belonging to 2 classes.\n",
      "Found 7403 files belonging to 2 classes.\n",
      "\n",
      "Your Training Dataset:\n",
      "Image batch shape: (32, 224, 224, 3)\n",
      "Labels batch shape: (32, 1)\n",
      "\n",
      "Your Validation Dataset:\n",
      "Image batch shape: (32, 224, 224, 3)\n",
      "Labels batch shape: (32, 1)\n",
      "\n",
      "Your Test Dataset:\n",
      "Image batch shape: (32, 224, 224, 3)\n",
      "Labels batch shape: (32, 1)\n",
      "\n",
      "Datasets with preprocessing applied:\n",
      "Processed image batch dtype: <dtype: 'float32'>\n"
     ]
    }
   ],
   "source": [
    "import tensorflow as tf\n",
    "import os\n",
    "\n",
    "main_dataset_dir = 'newarchive'\n",
    "image_height = 224\n",
    "image_width = 224\n",
    "batch_size = 32\n",
    "\n",
    "train_dir = os.path.join(main_dataset_dir, 'train')\n",
    "valid_dir = os.path.join(main_dataset_dir, 'validation')\n",
    "test_dir = os.path.join(main_dataset_dir, 'test')\n",
    "\n",
    "def load_dataset(directory, shuffle=True):\n",
    "    dataset = tf.keras.utils.image_dataset_from_directory(\n",
    "        directory,\n",
    "        labels='inferred',\n",
    "        label_mode='binary',\n",
    "        image_size=(image_height, image_width),\n",
    "        batch_size=batch_size,\n",
    "        shuffle=shuffle\n",
    "    )\n",
    "    return dataset\n",
    "\n",
    "sample_train = load_dataset(train_dir, shuffle=True)\n",
    "sample_valid = load_dataset(valid_dir, shuffle=False)\n",
    "sample_test = load_dataset(test_dir, shuffle=False)\n",
    "\n",
    "print(\"\\nYour Training Dataset:\")\n",
    "for image_batch, labels_batch in sample_train.take(1):\n",
    "    print(\"Image batch shape:\", image_batch.numpy().shape)\n",
    "    print(\"Labels batch shape:\", labels_batch.numpy().shape)\n",
    "\n",
    "print(\"\\nYour Validation Dataset:\")\n",
    "for image_batch, labels_batch in sample_valid.take(1):\n",
    "    print(\"Image batch shape:\", image_batch.numpy().shape)\n",
    "    print(\"Labels batch shape:\", labels_batch.numpy().shape)\n",
    "\n",
    "print(\"\\nYour Test Dataset:\")\n",
    "for image_batch, labels_batch in sample_test.take(1):\n",
    "    print(\"Image batch shape:\", image_batch.numpy().shape)\n",
    "    print(\"Labels batch shape:\", labels_batch.numpy().shape)\n",
    "\n",
    "def preprocess(image, label):\n",
    "    image = tf.image.convert_image_dtype(image, dtype=tf.float32)\n",
    "    return image, label\n",
    "\n",
    "sample_train = sample_train.map(preprocess)\n",
    "sample_valid = sample_valid.map(preprocess)\n",
    "sample_test = sample_test.map(preprocess)\n",
    "\n",
    "print(\"\\nDatasets with preprocessing applied:\")\n",
    "for image_batch, labels_batch in sample_train.take(1):\n",
    "    print(\"Processed image batch dtype:\", image_batch.dtype)\n",
    "    break"
   ]
  },
  {
   "cell_type": "code",
   "execution_count": 42,
   "id": "e3992c2b",
   "metadata": {},
   "outputs": [
    {
     "name": "stdout",
     "output_type": "stream",
     "text": [
      "Model: \"sequential_13\"\n",
      "_________________________________________________________________\n",
      " Layer (type)                Output Shape              Param #   \n",
      "=================================================================\n",
      " MobilenetV3large (Function  (None, 7, 7, 960)         2996352   \n",
      " al)                                                             \n",
      "                                                                 \n",
      " global_average_pooling2d_1  (None, 960)               0         \n",
      " 3 (GlobalAveragePooling2D)                                      \n",
      "                                                                 \n",
      " dropout_12 (Dropout)        (None, 960)               0         \n",
      "                                                                 \n",
      " dense_15 (Dense)            (None, 1)                 961       \n",
      "                                                                 \n",
      "=================================================================\n",
      "Total params: 2997313 (11.43 MB)\n",
      "Trainable params: 961 (3.75 KB)\n",
      "Non-trainable params: 2996352 (11.43 MB)\n",
      "_________________________________________________________________\n"
     ]
    }
   ],
   "source": [
    "import tensorflow as tf\n",
    "from tensorflow.keras.applications import MobileNetV3Large\n",
    "from tensorflow.keras import layers, models\n",
    "\n",
    "image_height = 224\n",
    "image_width = 224\n",
    "\n",
    "large_base_model = MobileNetV3Large(\n",
    "    include_top=False,\n",
    "    weights='imagenet',\n",
    "    input_shape=(image_height, image_width, 3)\n",
    ")\n",
    "\n",
    "# Freeze the base model layers\n",
    "large_base_model.trainable = False\n",
    "\n",
    "large_global_average_layer = layers.GlobalAveragePooling2D()\n",
    "large_prediction_layer = layers.Dense(1, activation='sigmoid') \n",
    "\n",
    "largemodel = models.Sequential([\n",
    "    large_base_model,\n",
    "    large_global_average_layer,\n",
    "    layers.Dropout(0.5),\n",
    "    large_prediction_layer\n",
    "])\n",
    "\n",
    "largemodel.compile(optimizer='adam',\n",
    "                   loss='binary_crossentropy',\n",
    "                   metrics=['accuracy'])\n",
    "\n",
    "largemodel.summary()\n"
   ]
  },
  {
   "cell_type": "code",
   "execution_count": 43,
   "id": "24df1ed8",
   "metadata": {},
   "outputs": [
    {
     "name": "stdout",
     "output_type": "stream",
     "text": [
      "Epoch 1/3\n",
      "984/984 [==============================] - 379s 382ms/step - loss: 0.4918 - accuracy: 0.7716 - val_loss: 0.3646 - val_accuracy: 0.8377\n",
      "Epoch 2/3\n",
      "984/984 [==============================] - 427s 432ms/step - loss: 0.4093 - accuracy: 0.8175 - val_loss: 0.3501 - val_accuracy: 0.8455\n",
      "Epoch 3/3\n",
      "984/984 [==============================] - 431s 436ms/step - loss: 0.4082 - accuracy: 0.8188 - val_loss: 0.3496 - val_accuracy: 0.8498\n",
      "232/232 [==============================] - 89s 382ms/step - loss: 0.3293 - accuracy: 0.8614\n",
      "\n",
      "Test Loss: 0.3293\n",
      "Test Accuracy: 0.8614\n"
     ]
    }
   ],
   "source": [
    "epochs_frozen = 3  \n",
    "history_frozen = largemodel.fit(\n",
    "    sample_train,\n",
    "    epochs=epochs_frozen,\n",
    "    validation_data=sample_valid\n",
    ")\n",
    "\n",
    "# Evaluate the model on the test dataset\n",
    "loss, accuracy = largemodel.evaluate(sample_test)\n",
    "print(f\"\\nTest Loss: {loss:.4f}\")\n",
    "print(f\"Test Accuracy: {accuracy:.4f}\")\n"
   ]
  },
  {
   "cell_type": "code",
   "execution_count": 44,
   "id": "6353f82f",
   "metadata": {},
   "outputs": [
    {
     "name": "stdout",
     "output_type": "stream",
     "text": [
      "232/232 [==============================] - 77s 330ms/step\n"
     ]
    },
    {
     "data": {
      "image/png": "[encoded data removed]",
      "text/plain": [
       "<Figure size 800x600 with 2 Axes>"
      ]
     },
     "metadata": {},
     "output_type": "display_data"
    },
    {
     "data": {
      "image/png": "[encoded data removed]",
      "text/plain": [
       "<Figure size 800x600 with 2 Axes>"
      ]
     },
     "metadata": {},
     "output_type": "display_data"
    },
    {
     "name": "stdout",
     "output_type": "stream",
     "text": [
      "\n",
      "Classification Report:\n",
      "              precision    recall  f1-score   support\n",
      "\n",
      "        Fake       0.88      0.85      0.86      3875\n",
      "        Real       0.84      0.88      0.86      3528\n",
      "\n",
      "    accuracy                           0.86      7403\n",
      "   macro avg       0.86      0.86      0.86      7403\n",
      "weighted avg       0.86      0.86      0.86      7403\n",
      "\n"
     ]
    }
   ],
   "source": [
    "import numpy as np\n",
    "import matplotlib.pyplot as plt\n",
    "import seaborn as sns\n",
    "from sklearn.metrics import confusion_matrix, classification_report\n",
    "\n",
    "\n",
    "predictions = largemodel.predict(sample_test)\n",
    "predicted_classes = np.round(predictions).flatten()\n",
    "\n",
    "\n",
    "true_labels = np.concatenate([y.numpy() for _, y in sample_test])\n",
    "\n",
    "\n",
    "cm = confusion_matrix(true_labels, predicted_classes)\n",
    "\n",
    "# --- Confusion Matrix with Counts ---\n",
    "plt.figure(figsize=(8, 6))\n",
    "sns.heatmap(cm, annot=True, fmt='d', cmap='Blues',\n",
    "            xticklabels=['Fake', 'Real'], yticklabels=['Fake', 'Real'])\n",
    "plt.xlabel('Predicted Label')\n",
    "plt.ylabel('True Label')\n",
    "plt.title('Confusion Matrix (Counts)')\n",
    "plt.show()\n",
    "\n",
    "# --- Confusion Matrix with Percentages ---\n",
    "cm_percentage = cm.astype('float') / cm.sum(axis=1)[:, np.newaxis]\n",
    "\n",
    "plt.figure(figsize=(8, 6))\n",
    "sns.heatmap(cm_percentage, annot=True, fmt='.2%', cmap='Greens',\n",
    "            xticklabels=['Fake', 'Real'], yticklabels=['Fake', 'Real'])\n",
    "plt.xlabel('Predicted Label')\n",
    "plt.ylabel('True Label')\n",
    "plt.title('Confusion Matrix (Percentages)')\n",
    "plt.show()\n",
    "\n",
    "\n",
    "print(\"\\nClassification Report:\")\n",
    "print(classification_report(true_labels, predicted_classes, target_names=['Fake', 'Real']))"
   ]
  }
 ],
 "metadata": {
  "kernelspec": {
   "display_name": "Python 3",
   "language": "python",
   "name": "python3"
  },
  "language_info": {
   "codemirror_mode": {
    "name": "ipython",
    "version": 3
   },
   "file_extension": ".py",
   "mimetype": "text/x-python",
   "name": "python",
   "nbconvert_exporter": "python",
   "pygments_lexer": "ipython3",
   "version": "3.8.10"
  }
 },
 "nbformat": 4,
 "nbformat_minor": 5
}
